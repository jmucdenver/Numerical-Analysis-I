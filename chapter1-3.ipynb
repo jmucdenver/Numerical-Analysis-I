{
 "cells": [
  {
   "cell_type": "markdown",
   "id": "0b0c94e1",
   "metadata": {},
   "source": [
    "## 1.3 Computer arithmetic"
   ]
  },
  {
   "cell_type": "markdown",
   "id": "e868871e",
   "metadata": {},
   "source": [
    "The way computers store numbers and perform computations could surprise\n",
    "the beginner. In Python if you type $(\\sqrt{3})^{2}$ the result will\n",
    "be 2.9....96, where 9 is repeated 15 times. Here are two obvious\n",
    "but fundamental differences in the way computers do arithmetic:\n",
    "\n",
    "- only finitely many numbers can be represented in a computer;\n",
    "- a number represented in a computer can only have finitely many digits.\n",
    "\n",
    "Therefore the numbers that can be represented in a computer exactly\n",
    "is only a subset of rational numbers. Anytime the computer performs\n",
    "an operation whose outcome is not a number that can be represented\n",
    "exactly in the computer, an approximation will replace the exact number.\n",
    "This is called the *roundoff error*: error produced when a computer\n",
    "is used to perform real number calculations."
   ]
  },
  {
   "cell_type": "markdown",
   "id": "50f3e1ef",
   "metadata": {},
   "source": [
    "### Floating-point representation of real numbers"
   ]
  },
  {
   "cell_type": "markdown",
   "id": "1ed2a6e1",
   "metadata": {},
   "source": [
    "Here is a general model for representing real numbers in a computer:"
   ]
  },
  {
   "cell_type": "markdown",
   "id": "78f878d7",
   "metadata": {},
   "source": [
    "\\begin{equation}\\label{eq:float pt general}\n",
    "x=s(.a_{1}a_{2}...a_{t})_{\\beta}\\times\\beta^{e}\n",
    "\\end{equation}"
   ]
  },
  {
   "cell_type": "markdown",
   "id": "b5780250",
   "metadata": {},
   "source": [
    "where\n",
    "\n",
    "\\begin{align*}\n",
    "s & \\rightarrow\\text{sign of } x=\\pm 1\\\\\n",
    "e & \\rightarrow\\text{exponent, with bounds } L\\le e\\leq U\\\\\n",
    "(.a_{1}...a_{t})_{\\beta} & =\\frac{a_{1}}{\\beta}+\\frac{a_{2}}{\\beta^{2}}+...+\\frac{a_{t}}{\\beta^{t}};\\text{ the mantissa}\\\\\n",
    "\\beta & \\rightarrow\\text{base}\\\\\n",
    "t & \\rightarrow\\text{number of digits; the precision.}\n",
    "\\end{align*}"
   ]
  },
  {
   "cell_type": "markdown",
   "id": "b2b85b42",
   "metadata": {},
   "source": [
    "In the floating-point representation \\eqref{eq:float pt general},\n",
    "if we specify $e$ in such a way that $a_{1}\\neq 0,$ then the representation\n",
    "will be unique. This is called the **normalized** floating-point\n",
    "representation. For example if $\\beta=10,$ in the normalized floating-point\n",
    "we would write $0.012$ as $0.12\\times10^{-1}$, instead of choices\n",
    "like $0.012 \\times 10^{0}$ or $0.0012 \\times 10$.\n",
    "\n",
    "In most computers today, the base is $\\beta=2.$ Bases 8 and 16 were\n",
    "used in old IBM mainframes in the past. Some handheld calculators\n",
    "use base 10. An interesting historical example is a short-lived\n",
    "computer named Setun developed at Moscow State University which used base 3.\n",
    "\n",
    "There are several choices to make in the general floating-point model\n",
    "\\eqref{eq:float pt general} for the values of $s,\\beta, t,e$. The IEEE 64-bit floating-point representation \n",
    "is the specific model used in most computers today:"
   ]
  },
  {
   "cell_type": "markdown",
   "id": "8e44b356",
   "metadata": {},
   "source": [
    "\\begin{equation}\\label{eq:IEEE}\n",
    "x=(-1)^{s}(1.a_{2}a_{3}...a_{53})_{2}2^{e-1023}.\n",
    "\\end{equation}"
   ]
  },
  {
   "cell_type": "markdown",
   "id": "75c121b3",
   "metadata": {},
   "source": [
    "Some comments:\n",
    "\n",
    "- Notice how $s$ appears in different forms in equations \\eqref{eq:float pt general} and \\eqref{eq:IEEE}. In \\eqref{eq:IEEE}, $s$ is either 0 or 1. If $s=0$, then $x$ is positive. If $s=1$, $x$ is negative.\n",
    "\n",
    "- Since $\\beta=2,$ in the normalized floating-point representation of $x$ the first (nonzero) digit after the decimal point has to be 1. Then we do not have to store this number. That's why we write $x$ as a decimal number starting at 1 in \\eqref{eq:IEEE}. Even though precision is $t=52,$ we are able to access up to the 53rd digit $a_{53}$.\n",
    "\n",
    "- The bounds for the exponent are: $0\\leq e\\leq 2047.$ We will discuss where 2047 comes from shortly. But first, let's discuss why we have $e-1023$ as the exponent in the representation \\eqref{eq:IEEE}, as opposed to simply $e$ (which we had in the representation \\eqref{eq:float pt general}). If the smallest exponent possible was $e=0$, then the smallest positive number the computer can generate would be $(1.00...0)_{2}=1$: certainly we need the computer to represent numbers less than 1! That's why we use the shifted expression $e-1023$, called the \\textbf{biased exponent},  in the representation In \\eqref{eq:IEEE}. Note that the bounds for the biased exponent are $-1023\\leq e-1023 \\leq 1024.$\n",
    "\n",
    "Here is a schema that illustrates how the physical bits of a computer\n",
    "correspond to the representation above. Each cell in the table below,\n",
    "numbered 1 through 64, correspond to the physical bits in the computer\n",
    "memory."
   ]
  },
  {
   "cell_type": "markdown",
   "id": "e1aef383",
   "metadata": {},
   "source": [
    "\\begin{equation*}\n",
    "\\begin{array}{|c|c|c|c|c|c|c|c|}\n",
    "\\hline\n",
    "1 & \\color{blue}2 & \\color{blue}{3} & \\color{blue}{\\ldots} & \\color{blue}{12} & \\color{red}{13} & \\color{red}{\\ldots} & \\color{red}{64}\\\\\n",
    "\\hline\n",
    "\\end{array}\n",
    "\\end{equation*}\n",
    "\n",
    "- The first bit is the sign bit: it stores the value for $s$, 0 or 1.\n",
    "- The blue bits 2 through 12 store the exponent $e$ (not $e-1023)$. Using 11 bits, one can generate the integers from 0 to $2^{11}-1=2047$. Here is how you get the smallest and largest values for $e$:\n",
    "\\begin{align*}\n",
    "e&=(00...0)_{2}=0\\\\\n",
    "e&=(11...1)_{2}=2^{0}+2^{1}+...+2^{10}=\\frac{2^{11}-1}{2-1}=2047.\n",
    "\\end{align*}\n",
    "- The red bits, and there are 52 of them, store the digits $a_{2}$ through $a_{53}$."
   ]
  },
  {
   "cell_type": "markdown",
   "id": "56667da5",
   "metadata": {},
   "source": [
    "### Example\n",
    "Find the floating-point representation of 10.375."
   ]
  },
  {
   "cell_type": "markdown",
   "id": "b25c09fe",
   "metadata": {},
   "source": [
    "**Solution.**\n",
    "\n",
    "You can check that $10=({\\color{cyan}{\\color{red}1}}{\\color{brown}{\\color{green}{\\color{green}0}}}{\\color{blue}1}{\\color{black}0})_{2}$\n",
    "and $0.375=(.0{\\color{blue}1}{\\color{green}1})_{2}$ by computing\n",
    "\\begin{align*}\n",
    "10 & ={\\color{black}0}\\times2^{0}+{\\color{blue}1}\\times2^{1}+{\\color{brown}{\\color{green}{\\color{green}0}}}\\times2^{2}+{\\color{cyan}{\\color{red}1}}\\times2^{3}\\\\\n",
    "0.375 & =0\\times2^{-1}+{\\color{blue}1}\\times2^{-2}+{\\color{green}1}\\times2^{-3}.\n",
    "\\end{align*}\n",
    "Then\n",
    "\\begin{equation*}\n",
    "10.375=(1010.011)_{2}=(1.010011)_{2}\\times2^{3}\n",
    "\\end{equation*}\n",
    "where $(1.010011)_{2}\\times2^{3}$ is the normalized floating-point representation of the number.\n",
    "Now we rewrite this in terms of the representation \\eqref{eq:IEEE}:\n",
    "\\begin{equation*}\n",
    "10.375=(-1)^{0}(1.010011)_{2}\\times2^{1026-1023}.\n",
    "\\end{equation*}\n",
    "Since $1026=(10000000010)_{2}$, the bit by bit representation is:"
   ]
  },
  {
   "cell_type": "markdown",
   "id": "1f348327",
   "metadata": {},
   "source": [
    "\\begin{equation*}\n",
    "\\begin{array}{|c||c|c|c|c|c|c|c|c|c|c|c||c|c|c|c|c|c|c|c|c|}\n",
    "\\hline\n",
    "0 & \\color{blue}{1} & \\color{blue}{0} & \\color{blue}{0} & \\color{blue}{0} & \\color{blue}{0} & \\color{blue}{0} & \\color{blue}{0} & \\color{blue}{0} & \\color{blue}{0} & \\color{blue}{1} & \\color{blue}{0} & \\color{red}{0} & \\color{red}{1} & \\color{red}{0} & \\color{red}{0} & \\color{red}{1} & \\color{red}{1} & 0 & \\ldots & 0\\\\\n",
    "\\hline\n",
    "\\end{array}\n",
    "\\end{equation*}"
   ]
  },
  {
   "cell_type": "markdown",
   "id": "7ce1ea7b",
   "metadata": {},
   "source": [
    "Notice the first sign bit is 0 since the number is positive. The next\n",
    "11 bits (in blue) represent the exponent $e=1026$, and the next group of\n",
    "red bits are the mantissa, filled with 0's after the last digit of\n",
    "the mantissa. In Python, although there is no built-in function that produces\n",
    "the bit by bit representation of a number, we can define the following function named *float2bin*, which provides the bit representation of a floating-point number, based on the *struct* package:"
   ]
  },
  {
   "cell_type": "code",
   "execution_count": 1,
   "id": "7d6c03d5",
   "metadata": {
    "scrolled": true
   },
   "outputs": [],
   "source": [
    "import struct\n",
    "def float2bin(f):\n",
    "    (d,) = struct.unpack(\">Q\", struct.pack(\">d\", f))\n",
    "    return f'{d:064b}'"
   ]
  },
  {
   "cell_type": "code",
   "execution_count": 2,
   "id": "4c2bbae9",
   "metadata": {
    "scrolled": true
   },
   "outputs": [
    {
     "data": {
      "text/plain": [
       "'0100000000100100110000000000000000000000000000000000000000000000'"
      ]
     },
     "execution_count": 2,
     "metadata": {},
     "output_type": "execute_result"
    }
   ],
   "source": [
    "float2bin(10.375)"
   ]
  },
  {
   "cell_type": "markdown",
   "id": "3c425245",
   "metadata": {},
   "source": [
    "#### Special cases: zero, infinity, NAN"
   ]
  },
  {
   "cell_type": "markdown",
   "id": "d45a3bf5",
   "metadata": {},
   "source": [
    "In the floating-point arithmetic there are two zeros: $+0.0$ and $-0.0$, and they have special representations. In the representation of zero, all exponent and mantissa bits are set to 0. The sign bit is 0 for $+0.0$, and 1, for $-0.0$:\n",
    "\\begin{equation*}\n",
    "0.0\\rightarrow\n",
    "\\begin{array}{|c|c|c|c|c|c|c|}\n",
    "\\hline\n",
    "0 & \\color{blue}{0} & \\color{blue}{\\text{all zeros}} & \\color{blue}{0} & \\color{red}{0} & \\color{red}{\\text{all zeros}} & \\color{red}{0}\\\\\n",
    "\\hline\n",
    "\\end{array}\n",
    "\\end{equation*}\\\n",
    "\n",
    "\\begin{equation*}\n",
    "-0.0\\rightarrow \n",
    "\\begin{array}{|c|c|c|c|c|c|c|}\n",
    "\\hline\n",
    "1 & \\color{blue}{0} & \\color{blue}{\\text{all zeros}} & \\color{blue}{0} & \\color{red}{0} & \\color{red}{\\text{all zeros}} & \\color{red}{0}\\\\\n",
    "\\hline\n",
    "\\end{array}\n",
    "\\end{equation*}"
   ]
  },
  {
   "cell_type": "markdown",
   "id": "78752d1a",
   "metadata": {},
   "source": [
    "When the exponent bits are set to zero, we have $e=0$ and thus $e-1023=-1023.$\n",
    "This arrangement, all exponent bits set to zero, is reserved for\n",
    "$\\pm 0.0$ and **subnormal numbers**. Subnormal\n",
    "numbers are an exception to our normalized floating-point representation,\n",
    "an exception that is useful in various ways. For details see *Goldberg (1991)*."
   ]
  },
  {
   "cell_type": "markdown",
   "id": "4e3b722a",
   "metadata": {},
   "source": [
    "Here is how plus and minus infinity is represented in the computer:\n",
    "\\begin{equation*}\n",
    "\\infty\\rightarrow\n",
    "\\begin{array}{|c|c|c|c|c|c|c|}\n",
    "\\hline\n",
    "0 & \\color{blue}{1} & \\color{blue}{\\text{all ones}} & \\color{blue}{1} & \\color{red}{0} & \\color{red}{\\text{all zeros}} & \\color{red}{0}\\\\\n",
    "\\hline\n",
    "\\end{array}\n",
    "\\end{equation*}\\\n",
    "\n",
    "\\begin{equation*}\n",
    "-\\infty\\rightarrow \n",
    "\\begin{array}{|c|c|c|c|c|c|c|}\n",
    "\\hline\n",
    "1 & \\color{blue}{1} & \\color{blue}{\\text{all ones}} & \\color{blue}{1} & \\color{red}{0} & \\color{red}{\\text{all zeros}} & \\color{red}{0}\\\\\n",
    "\\hline\n",
    "\\end{array}\n",
    "\\end{equation*}"
   ]
  },
  {
   "cell_type": "markdown",
   "id": "04b300e9",
   "metadata": {},
   "source": [
    "When the exponent bits are set to one, we have $e=2047$ and thus\n",
    "$e-1023=1024.$ This arrangement is reserved for $\\pm \\infty$ as\n",
    "well as other special values such as NaN (not-a-number).\n",
    "\n",
    "In conclusion, even though $-1023\\leq e-1023\\leq 1024$,\n",
    "when it comes to representing non-zero real numbers, we only have\n",
    "access to exponents in the following range: $-1022\\leq e-1023\\leq 1023.$\n",
    "\n",
    "Therefore, the smallest positive real number that can be represented in a computer is\n",
    "\\begin{equation*}\n",
    "x=(-1)^{0}(1.00\\ldots0)_{2}\\times2^{-1022}=2^{-1022}\\approx0.2\\times10^{-307}\n",
    "\\end{equation*}\n",
    "and the largest is\n",
    "\\begin{align*}\n",
    "x=(-1)^{0}(1.11\\ldots1)_{2}\\times2^{1023}&=\\left(1+\\frac{1}{2}+\\frac{1}{2^{2}}+...+\\frac{1}{2^{52}}\\right)\\times2^{1023}\\\\\n",
    "&=(2-2^{-52})2^{1023}\\\\\n",
    "&\\approx0.18\\times10^{309}.\n",
    "\\end{align*}\n",
    "\n",
    "During a calculation, if a number\n",
    "less than the smallest floating-point number is obtained, then we obtain\n",
    "the **underflow error**. A number greater than the largest\n",
    "gives **overflow error**."
   ]
  },
  {
   "cell_type": "markdown",
   "id": "ef0681a2",
   "metadata": {},
   "source": [
    "### Exercise 1.3-1\n",
    "\n",
    "Consider the following toy model for a normalized floating-point representation\n",
    "in base 2: $x=(-1)^{s}(1.a_{2}a_{3})_{2}\\times2^{e}$ where $-1\\leq e\\leq1$.\n",
    "Find all positive machine numbers (there are 12 of them) that can\n",
    "be represented in this model. Convert the numbers to base 10, and\n",
    "then carefully plot them on the number line, by hand, and comment\n",
    "on how the numbers are spaced."
   ]
  },
  {
   "cell_type": "markdown",
   "id": "68f2246c",
   "metadata": {},
   "source": [
    "### Representation of integers"
   ]
  },
  {
   "cell_type": "markdown",
   "id": "73ba8ae8",
   "metadata": {},
   "source": [
    "In the previous section, we discussed representing real numbers in a computer. Here we will give a brief discussion of representing integers. How does a computer represent an integer $n$? As in real numbers, we start with writing $n$ in base 2. We have 64 bits to represent its digits and sign. As in the floating-point representation, we can allocate one bit for the sign, and use the rest, 63 bits, for the digits. This approach has some disadvantages when we start adding integers. Another approach, known as the **two's complement**, is more commonly used, including in Python.\n",
    "\n",
    "For an example, assume we have 8 bits in our computer. To represent 12 in two's complement (or any positive integer), we simply write it in its base 2 expansion: $(00001100)_2$. To represent $-12$, we do the following: flip all digits, replacing 1 by 0, and 0 by 1, and then add 1 to the result. When we flip digits for 12, we get  $(11110011)_2$, and adding 1 (in binary), gives $(11110100)_2$. Therefore $-12$ is represented as $(11110100)_2$ in two's complement approach. It may seem mysterious to go through all this trouble to represent $-12$, until you add the representations of 12 and $-12$,\n",
    "\\begin{equation*}\n",
    "(00001100)_2 + (11110100)_2 = (\\color{red}{1}00000000)_2\n",
    "\\end{equation*}\n",
    "and realize that the first 8 digits of the sum (from right to left), which is what the computer can only represent (ignoring the red digit 1), is $(00000000)_2$. So just like $12+(-12)=0$ in base 10, the sum of the representations of these numbers is also 0.\n",
    "\n",
    "We can repeat these calculations with 64-bits, using Python. The function *int2bin* defined below outputs the digits of an integer, using two's complement for negative numbers:"
   ]
  },
  {
   "cell_type": "code",
   "execution_count": 3,
   "id": "9ab425b1",
   "metadata": {
    "scrolled": true
   },
   "outputs": [],
   "source": [
    "import struct\n",
    "def int2bin(i):\n",
    "    (d,) = struct.unpack(\">Q\", struct.pack(\">q\", i))    \n",
    "    return f'{d:064b}'"
   ]
  },
  {
   "cell_type": "code",
   "execution_count": 4,
   "id": "1c0b503a",
   "metadata": {
    "scrolled": true
   },
   "outputs": [
    {
     "data": {
      "text/plain": [
       "'0000000000000000000000000000000000000000000000000000000000001100'"
      ]
     },
     "execution_count": 4,
     "metadata": {},
     "output_type": "execute_result"
    }
   ],
   "source": [
    "int2bin(12)"
   ]
  },
  {
   "cell_type": "markdown",
   "id": "391cb050",
   "metadata": {},
   "source": [
    "```{bibliography}\n",
    "```"
   ]
  },
  {
   "cell_type": "code",
   "execution_count": 5,
   "id": "dd509bd0",
   "metadata": {
    "scrolled": true
   },
   "outputs": [
    {
     "data": {
      "text/plain": [
       "'1111111111111111111111111111111111111111111111111111111111110100'"
      ]
     },
     "execution_count": 5,
     "metadata": {},
     "output_type": "execute_result"
    }
   ],
   "source": [
    "int2bin(-12)"
   ]
  },
  {
   "cell_type": "markdown",
   "id": "2f519be9",
   "metadata": {},
   "source": [
    "You can verify that the sum of these representations is 0, when truncated to 64-digits.\n",
    "\n",
    "Here is another example illustrating the advantages of two's complement. Consider $-3$ and 5, with representations,\n",
    "\\begin{equation*}\n",
    "-3=(11111101)_2 \\text{ and }\n",
    "5=(00000101)_2.\n",
    "\\end{equation*}\n",
    "\n",
    "The sum of $-3$ and 5 is 2; what about the binary sum of their representations? We have\n",
    "\\begin{equation*}\n",
    "(11111101)_2+(00000101)_2=(\\color{red}{1}00000010)_2\n",
    "\\end{equation*}\n",
    "and if we ignore the ninth bit in red, the result is $(10)_2$, which is indeed 2. Notice that if we followed the same approach used in the floating-point representation and allocated the leftmost bit to the sign of the integer, we would not have had this property.\n",
    "\n",
    "We will not discuss integer representations and integer arithmetic any further. However one useful fact to keep in mind is the following: in two's complement, using 64 bits, one can represent integers between $-2^{63}=-9223372036854775808$ and $2^{63}-1=9223372036854775807$. Any integer below or above yields **underflow** or **overflow** error. However, Python is special compared to the other programming languages in that it supports arbitrary-precision integer implementation. Integers of any size can be supported in Python, while it is not true for floats."
   ]
  },
  {
   "cell_type": "markdown",
   "id": "572c61cb",
   "metadata": {},
   "source": [
    "### Example\n",
    "From Calculus, we know that $\\lim_{n->\\infty} \\frac{n^n}{n!}=\\infty$. Therefore, computing $\\frac{n^n}{n!}$, which is a float, for large $n$ will cause overflow at some point. Here is a Python code for this calculation:"
   ]
  },
  {
   "cell_type": "code",
   "execution_count": 6,
   "id": "ba9902e5",
   "metadata": {
    "scrolled": true
   },
   "outputs": [],
   "source": [
    "from scipy.special import factorial\n",
    "f = lambda n: n**n/factorial(n)"
   ]
  },
  {
   "cell_type": "markdown",
   "id": "aa5a9311",
   "metadata": {},
   "source": [
    "Let's have a closer look at this function. The Python function \\textbf{factorial(n)} computes the factorial, returned as a float, as the gamma function at $n+1$. If we call $f$ with an integer input, then the above code will compute $n^n$ as an integer and $\\text{factorial}(n)$ as a float. Then it will divide these numbers, by first converting $n^n$ to a float, and obtain a floating-point factorial. Let's compute\n",
    "$f(n)=\\frac{n^n}{n!}$ as $n=1,...,1000$:"
   ]
  },
  {
   "cell_type": "code",
   "execution_count": 7,
   "id": "70b3c372",
   "metadata": {
    "scrolled": true,
    "tags": [
     "{",
     "\"tags\":",
     "[",
     "\"output_scroll\"",
     "]",
     "}",
     "output_scroll"
    ]
   },
   "outputs": [
    {
     "name": "stdout",
     "output_type": "stream",
     "text": [
      "1 1.0\n",
      "2 2.0\n",
      "3 4.5\n",
      "4 10.666666666666666\n",
      "5 26.041666666666668\n",
      "6 64.8\n",
      "7 163.4013888888889\n",
      "8 416.1015873015873\n",
      "9 1067.6270089285715\n",
      "10 2755.731922398589\n",
      "11 7147.658895778219\n",
      "12 18613.926233766233\n",
      "13 48638.8461384701\n",
      "14 127463.00337621226\n",
      "15 334864.627690599\n",
      "16 881657.9515664614\n",
      "17 2325750.6353670303\n",
      "18 6145596.911985091\n",
      "19 16263866.353935543\n",
      "20 43099804.12182177\n",
      "21 114356611.3686037\n",
      "22 303761260.04766583\n",
      "23 807692034.6582023\n",
      "24 2149632061.4646716\n",
      "25 5726042115.469875\n",
      "26 15264691107.046675\n",
      "27 40722913454.160416\n",
      "28 108713644516.20932\n",
      "29 290404350962.9901\n",
      "30 776207020879.728\n",
      "31 2075825009901.003\n",
      "32 5554277310717.434\n",
      "33 14868745536619.768\n",
      "34 39821588060720.56\n",
      "35 106696188125885.62\n",
      "36 285992654335445.2\n",
      "37 766879127067901.0\n",
      "38 2057103777254334.5\n",
      "39 5519943051629867.0\n",
      "40 1.4816805671322662e+16\n",
      "41 3.9784069108519944e+16\n",
      "42 1.0685429454599882e+17\n",
      "43 2.8707602164766144e+17\n",
      "44 7.714688909178948e+17\n",
      "45 2.073725455492908e+18\n",
      "46 5.575586585767318e+18\n",
      "47 1.4994492532091273e+19\n",
      "48 4.03339361002671e+19\n",
      "49 1.0851831788708546e+20\n",
      "50 2.9202857169191866e+20\n",
      "51 7.860206077134315e+20\n",
      "52 2.1160478142780536e+21\n",
      "53 5.697663900168533e+21\n",
      "54 1.5344226789979207e+22\n",
      "55 4.133017184882951e+22\n",
      "56 1.1134245021677868e+23\n",
      "57 3.000013296152004e+23\n",
      "58 8.084479037628234e+23\n",
      "59 2.1789390785575456e+24\n",
      "60 5.873543285009077e+24\n",
      "61 1.5834897308448032e+25\n",
      "62 4.269611651826635e+25\n",
      "63 1.1513773778377436e+26\n",
      "64 3.1052848010126177e+26\n",
      "65 8.3760242842885e+26\n",
      "66 2.2595687315837237e+27\n",
      "67 6.096250282616914e+27\n",
      "68 1.6449327945594907e+28\n",
      "69 4.438950122780101e+28\n",
      "70 1.198002613029648e+29\n",
      "71 3.2335484653005814e+29\n",
      "72 8.72858533644468e+29\n",
      "73 2.3564056090942196e+30\n",
      "74 6.362045919639802e+30\n",
      "75 1.7178412626264913e+31\n",
      "76 4.638821880509554e+31\n",
      "77 1.2527655344509842e+32\n",
      "78 3.383517021537223e+32\n",
      "79 9.139079946268589e+32\n",
      "80 2.4687165974114656e+33\n",
      "81 6.669200710894894e+33\n",
      "82 1.8018112811152115e+34\n",
      "83 4.868296055291825e+34\n",
      "84 1.3154551846753897e+35\n",
      "85 3.5547231931281884e+35\n",
      "86 9.606505987793982e+35\n",
      "87 2.5962970270453022e+36\n",
      "88 7.017329595384578e+36\n",
      "89 1.8967815247508388e+37\n",
      "90 5.127315709529858e+37\n",
      "91 1.3860838995665697e+38\n",
      "92 3.74727103462557e+38\n",
      "93 1.0131325235435687e+39\n",
      "94 2.7393178441482474e+39\n",
      "95 7.407012632304309e+39\n",
      "96 2.0029389939554914e+40\n",
      "97 5.416463730655615e+40\n",
      "98 1.4648290958181994e+41\n",
      "99 3.9616911056658315e+41\n",
      "100 1.0715102881254669e+42\n",
      "101 2.898235845689207e+42\n",
      "102 7.839571392600314e+42\n",
      "103 2.1206632955113312e+43\n",
      "104 5.736823952982959e+43\n",
      "105 1.551998649486449e+44\n",
      "106 4.198854150727546e+44\n",
      "107 1.136029230339268e+45\n",
      "108 3.073740014077651e+45\n",
      "109 8.316935162693644e+45\n",
      "110 2.2504932907103145e+46\n",
      "111 6.089898041900186e+46\n",
      "112 1.6480101901073126e+47\n",
      "113 4.459919540030163e+47\n",
      "114 1.2070106753482381e+48\n",
      "115 3.26671960681431e+48\n",
      "116 8.841561651906265e+48\n",
      "117 2.393107411698789e+49\n",
      "118 6.477556687451066e+49\n",
      "119 1.7533790152611896e+50\n",
      "120 4.746305390490181e+50\n",
      "121 1.2848445620360088e+51\n",
      "122 3.4782459979728686e+51\n",
      "123 9.416392383935284e+51\n",
      "124 2.5493127339557556e+52\n",
      "125 6.902012924238449e+52\n",
      "126 1.8687116017035944e+53\n",
      "127 5.059672856069887e+53\n",
      "128 1.3699856602506274e+54\n",
      "129 3.70956362867368e+54\n",
      "130 1.00448312177488e+55\n",
      "131 2.7200399275386365e+55\n",
      "132 7.365810408105395e+55\n",
      "133 1.994702925605016e+56\n",
      "134 5.401920128725678e+56\n",
      "135 1.4629522660965042e+57\n",
      "136 3.962087287769907e+57\n",
      "137 1.0730739055834461e+58\n",
      "138 2.90634235201109e+58\n",
      "139 7.871822311096416e+58\n",
      "140 2.132136506640898e+59\n",
      "141 5.775183434192781e+59\n",
      "142 1.5643266954396485e+60\n",
      "143 4.2374040203696554e+60\n"
     ]
    },
    {
     "ename": "OverflowError",
     "evalue": "int too large to convert to float",
     "output_type": "error",
     "traceback": [
      "\u001b[0;31m---------------------------------------------------------------------------\u001b[0m",
      "\u001b[0;31mOverflowError\u001b[0m                             Traceback (most recent call last)",
      "Cell \u001b[0;32mIn[7], line 2\u001b[0m\n\u001b[1;32m      1\u001b[0m \u001b[38;5;28;01mfor\u001b[39;00m n \u001b[38;5;129;01min\u001b[39;00m \u001b[38;5;28mrange\u001b[39m(\u001b[38;5;241m1\u001b[39m, \u001b[38;5;241m1001\u001b[39m):\n\u001b[0;32m----> 2\u001b[0m     \u001b[38;5;28mprint\u001b[39m(n, f(n))\n",
      "Cell \u001b[0;32mIn[6], line 2\u001b[0m, in \u001b[0;36m<lambda>\u001b[0;34m(n)\u001b[0m\n\u001b[1;32m      1\u001b[0m \u001b[38;5;28;01mfrom\u001b[39;00m \u001b[38;5;21;01mscipy\u001b[39;00m\u001b[38;5;21;01m.\u001b[39;00m\u001b[38;5;21;01mspecial\u001b[39;00m \u001b[38;5;28;01mimport\u001b[39;00m factorial\n\u001b[0;32m----> 2\u001b[0m f \u001b[38;5;241m=\u001b[39m \u001b[38;5;28;01mlambda\u001b[39;00m n: n\u001b[38;5;241m*\u001b[39m\u001b[38;5;241m*\u001b[39mn\u001b[38;5;241m/\u001b[39mfactorial(n)\n",
      "\u001b[0;31mOverflowError\u001b[0m: int too large to convert to float"
     ]
    }
   ],
   "source": [
    "for n in range(1, 1001):\n",
    "    print(n, f(n))"
   ]
  },
  {
   "cell_type": "markdown",
   "id": "d123934f",
   "metadata": {},
   "source": [
    "Notice that the process cannot proceed beyond $n=143$.  Where exactly does the error occur? Python can compute $144^{144}$ exactly (arbitrary-precision); however, when it is converted to a floating-point number, overflow occurs. For $143^{143}$, overflow does not happen."
   ]
  },
  {
   "cell_type": "code",
   "execution_count": null,
   "id": "5e6c5a77",
   "metadata": {
    "scrolled": true
   },
   "outputs": [],
   "source": [
    "float(143**143)"
   ]
  },
  {
   "cell_type": "code",
   "execution_count": null,
   "id": "b5c83564",
   "metadata": {
    "scrolled": true
   },
   "outputs": [],
   "source": [
    "float(144**144)"
   ]
  },
  {
   "cell_type": "markdown",
   "id": "2da038c4",
   "metadata": {},
   "source": [
    "The function $f(n)$ can be coded in a much better way if we rewrite $\\frac{n^n}{n!}$ as $\\frac{n}{n}\\frac{n}{n-1}...\\frac{n}{1}$. Each fraction can be computed separately, and then multiplied,  which will slow down the growth of the numbers. Here is a new code using a \\textbf{for} statement."
   ]
  },
  {
   "cell_type": "code",
   "execution_count": null,
   "id": "55e95b5b",
   "metadata": {
    "scrolled": true
   },
   "outputs": [],
   "source": [
    "def f(n):\n",
    "    pr = 1.\n",
    "    for i in range(1, n):\n",
    "        pr *= n/(n-i)\n",
    "    return pr"
   ]
  },
  {
   "cell_type": "markdown",
   "id": "9f27d6a5",
   "metadata": {},
   "source": [
    "Let's compute $f(n)=\\frac{n^n}{n!}$ as $n=1,...,1000$ again:"
   ]
  },
  {
   "cell_type": "code",
   "execution_count": null,
   "id": "c5713540",
   "metadata": {
    "scrolled": true,
    "tags": [
     "output_scroll"
    ]
   },
   "outputs": [],
   "source": [
    "for i in range(1, 1001):\n",
    "    print(i, f(i))"
   ]
  },
  {
   "cell_type": "markdown",
   "id": "63e4adcd",
   "metadata": {},
   "source": [
    "The previous version of the code gave overflow error when $n=144$. This version has no difficulty in computing $n^n/n!$ for $n=144$. In fact, we can go as high as $n=713$. Overflow in floating-point arithmetic yields the output inf, which stands for infinity.\n",
    "\n",
    "Another way to accommodate a larger value of $n$ is to define the function $f$ in this way:"
   ]
  },
  {
   "cell_type": "code",
   "execution_count": null,
   "id": "23847186",
   "metadata": {},
   "outputs": [],
   "source": [
    "from scipy.special import factorial\n",
    "f = lambda n: n**n/factorial(n, True)"
   ]
  },
  {
   "cell_type": "markdown",
   "id": "b79c0490",
   "metadata": {},
   "source": [
    "With the addition input \"True'', the function **factorial(n)** returns an integer with arbitrary precision, instead of a float, so that both the numerator and denominator are integers. The limit process stops only when the division produces a floating-point number that is so large that overflow occurs. As a result, the same result as in the improved algorithm above is expected. Please verify that the process can continue until $n=713$ with the modified $f$ function."
   ]
  },
  {
   "cell_type": "markdown",
   "id": "287bd943",
   "metadata": {},
   "source": [
    "We will discuss several features of computer arithmetic in the rest\n",
    "of this section. The discussion is easier to follow if we use the familiar\n",
    "base 10 representation of numbers instead of base 2. To this end, we introduce the **normalized\n",
    "decimal floating-point representation**:\n",
    "\\begin{equation*}\n",
    "\\pm0.d_{1}d_{2}...d_{k}\\times10^{n}\n",
    "\\end{equation*}\n",
    "where $1\\leq d_{1}\\leq9,0\\leq d_{i}\\leq9$ for all $i=2,3,...,k.$\n",
    "Informally, we call these numbers $k-$digit decimal machine numbers.\n"
   ]
  },
  {
   "cell_type": "markdown",
   "id": "fba11e74",
   "metadata": {},
   "source": [
    "### Chopping \\& Rounding"
   ]
  },
  {
   "cell_type": "markdown",
   "id": "fb039661",
   "metadata": {},
   "source": [
    "Let $x$ be a real number with more digits the computer can handle:\n",
    "$x=0.d_{1}d_{2}\\ldots d_{k}d_{k+1}\\ldots\\times10^{n}$. How will the\n",
    "computer represent $x$? Let's use the notation $fl(x)$ for the floating-point\n",
    "representation of $x$. There are two choices, chopping and rounding:\n",
    "- In chopping, we simply take the first $k$ digits and ignore the rest: $fl(x)=0.d_{1}d_{2}\\ldots d_{k}\\times10^{n}.$\n",
    "- In rounding, if $d_{k+1}\\geq 5$ we add 1 to $d_{k}$ to obtain $fl(x)$. If $d_{k+1}<5,$ then we simply do as in chopping."
   ]
  },
  {
   "cell_type": "markdown",
   "id": "42b598ad",
   "metadata": {},
   "source": [
    "### Example\n",
    "Find 5-digit ($k=5$) chopping and rounding values of the numbers\n",
    "below:\n",
    "- $\\pi=0.314159265...\\times10^{1}$\n",
    "\n",
    "  Chopping gives $fl(\\pi)=0.31415\\times10^{1}$ and rounding gives $fl(\\pi)=0.31416\\times10^{1}.$\n",
    "- $0.0001234567$\n",
    "\n",
    "  We need to write the number in the normalized representation first as $0.1234567\\times10^{-3}.$ Now chopping gives $0.12345\\times10^{-3}$ and rounding gives $0.12346\\times10^{-3}$."
   ]
  },
  {
   "cell_type": "markdown",
   "id": "cb9bbb24",
   "metadata": {},
   "source": [
    "### Absolute and relative error"
   ]
  },
  {
   "cell_type": "markdown",
   "id": "184a3a17",
   "metadata": {},
   "source": [
    "Since computers only give approximations to real numbers, we need to be clear on how we measure the error of an approximation."
   ]
  },
  {
   "cell_type": "markdown",
   "id": "4bc0f4a1",
   "metadata": {},
   "source": [
    "### Definition\n",
    "Suppose $x^{*}$ is an approximation to $x$.\n",
    "- $|x^{*}-x|$ is called the **absolute error**\n",
    "- $\\frac{|x^{*}-x|}{|x|}$ is called the **relative error** $(x\\neq0)$\n",
    "\\end{definition}\n",
    "\n",
    "Relative error usually is a better choice of measure, and we need\n",
    "to understand why."
   ]
  },
  {
   "cell_type": "markdown",
   "id": "e34a3d0b",
   "metadata": {},
   "source": [
    "### Example\n",
    "\n",
    "Find absolute and relative errors of\n",
    "1. $x=0.20\\times10^{1},x^{*}=0.21\\times10^{1}$\n",
    "2. $x=0.20\\times10^{-2},x^{*}=0.21\\times10^{-2}$\n",
    "3. $x=0.20\\times10^{5},x^{*}=0.21\\times10^{5}$"
   ]
  },
  {
   "cell_type": "markdown",
   "id": "9e3f63ef",
   "metadata": {},
   "source": [
    "Notice the only difference in the three cases is the exponent\n",
    "of the numbers. The absolute errors are: $0.01\\times 10$ , $0.01\\times 10^{-2}$\n",
    ", $0.01\\times 10^{5}$. The absolute errors are different since the\n",
    "exponents are different. However, the relative error in each case\n",
    "is the same: $0.05$."
   ]
  },
  {
   "cell_type": "markdown",
   "id": "cd62f422",
   "metadata": {},
   "source": [
    "### Definition\n",
    "The number $x^{*}$ is said to approximate $x$ to $s$ significant\n",
    "digits (or figures) if $s$ is the largest nonnegative integer such\n",
    "that\n",
    "\\begin{equation*}\n",
    "\\frac{|x-x^{*}|}{|x|}\\leq5\\times10^{-s}.\n",
    "\\end{equation*}"
   ]
  },
  {
   "cell_type": "markdown",
   "id": "7bdd8606",
   "metadata": {},
   "source": [
    "In Example above we had $\\frac{|x-x^{*}|}{|x|}=0.05\\leq5\\times10^{-2}$\n",
    "but not less than or equal to $5\\times10^{-3}$. Therefore we say\n",
    "$x^{*}=0.21$ approximates $x=0.20$ to 2 significant digits (but not to 3 digits).\n",
    "\n",
    "When the computer approximates a real number $x$ by $fl(x)$, what\n",
    "can we say about the error? The following result gives an upper bound\n",
    "for the relative error."
   ]
  },
  {
   "cell_type": "markdown",
   "id": "e5fda8ac",
   "metadata": {},
   "source": [
    "### Lemma\n",
    "The relative error of approximating\n",
    "$x$ by $fl(x)$ in the $k$-digit normalized decimal floating-point representation satisfies\n",
    "\\begin{equation*}\n",
    "\\frac{|x-fl(x)|}{|x|}\\leq\\begin{cases}\n",
    "10^{-k+1} & \\text{if chopping}\\\\\n",
    "\\frac{1}{2}(10^{-k+1}) & \\text{if rounding.}\n",
    "\\end{cases}\n",
    "\\end{equation*}"
   ]
  },
  {
   "cell_type": "markdown",
   "id": "458786cf",
   "metadata": {},
   "source": [
    "### Proof\n",
    "We will give the proof for chopping; the proof for rounding is similar\n",
    "but tedious. Let\n",
    "\\begin{equation*}\n",
    "x=0.d_{1}d_{2}...d_{k}d_{k+1}...\\times 10^{n}.\n",
    "\\end{equation*}\n",
    "Then\n",
    "\\begin{equation*}\n",
    "fl(x)=0.d_{1}d_{2}...d_{k}\\times 10^{n}\n",
    "\\end{equation*}\n",
    "if chopping is used. Observe that\n",
    "\\begin{equation*}\n",
    "\\frac{|x-fl(x)|}{|x|}=\\frac{0.d_{k+1}d_{k+2}...\\times 10^{n-k}}{0.d_{1}d_{2}...\\times 10^{n}}=\\left(\\frac{0.d_{k+1}d_{k+2}...}{0.d_{1}d_{2}...}\\right)10^{-k}.\n",
    "\\end{equation*}\n",
    "We have two simple bounds: $0.d_{k+1}d_{k+2}...<1$ and $0.d_{1}d_{2}...\\geq 0.1$,\n",
    "the latter true since the smallest value $d_{1}$ can be, is 1. Using these\n",
    "bounds in the equation above we get\n",
    "\\begin{equation*}\n",
    "\\frac{|x-fl(x)|}{|x|}\\leq\\frac{1}{0.1}10^{-k}=10^{-k+1}.\n",
    "\\end{equation*}\n",
    "\n"
   ]
  },
  {
   "cell_type": "markdown",
   "id": "4d3fffcd",
   "metadata": {},
   "source": [
    "### Remark\n",
    "Lemma \\ref{lem:relative-error-chopping} easily transfers to the base\n",
    "2 floating-point representation: $x=(-1)^{s}(1.a_{2}...a_{53})_{2}\\times2^{e-1023}$, by\n",
    "\\begin{equation*}\n",
    "\\frac{|x-fl(x)|}{|x|}\\leq\\begin{cases}\n",
    "2^{-t+1}=2^{-53+1}=2^{-52} & \\text{if chopping}\\\\\n",
    "\\frac{1}{2}(2^{-t+1})=2^{-53} & \\text{if rounding}.\n",
    "\\end{cases}\n",
    "\\end{equation*}"
   ]
  },
  {
   "cell_type": "markdown",
   "id": "8e299cd5",
   "metadata": {},
   "source": [
    "### Machine epsilon"
   ]
  },
  {
   "cell_type": "markdown",
   "id": "0a394d63",
   "metadata": {},
   "source": [
    "Machine epsilon $\\epsilon$ is the smallest positive floating point\n",
    "number for which $fl(1+\\epsilon)>1.$ This means, if we add to $1.0$\n",
    "any number less than $\\epsilon$, the machine computes the sum as\n",
    "$1.0$.\n",
    "\n",
    "The number 1.0 in its binary floating-point representation is simply\n",
    "$(1.0\\ldots0)_{2}$ where $a_{2}=a_{3}=...=a_{53}=0.$ We want to\n",
    "find the smallest number that gives a sum larger than 1.0, when it\n",
    "is added to 1.0. The answer depends on whether we chop or round.\n",
    "\n",
    "If we are chopping, examine the binary addition"
   ]
  },
  {
   "cell_type": "markdown",
   "id": "e1f80083",
   "metadata": {},
   "source": [
    "\\begin{equation*}\n",
    "\\begin{array}{cccccc}\n",
    " &  & a_{2} &  & a_{52} & a_{53}\\\\\n",
    " & 1. & 0 & ... & 0 & 0\\\\\n",
    "+ & 0. & 0 & ... & 0 & 1\\\\\n",
    "\\hline\n",
    " & 1. & 0 & ... & 0 & 1\n",
    "\\end{array}\n",
    "\\end{equation*}\n",
    "\n",
    "and notice $(0.0...01)_{2}=\\left(\\frac{1}{2}\\right)^{52}=2^{-52}$\n",
    "is the smallest number we can add to 1.0 such that the sum will be\n",
    "different than 1.0.\n",
    "\n",
    "If we are rounding, examine the binary addition\n",
    "\n",
    "\\begin{equation*}\n",
    "\\begin{array}{cccccc}\n",
    " &  & a_{2} &  & a_{52} & a_{53} & \\\\\n",
    " & 1. & 0 & ... & 0 & 0 & \\\\\n",
    "+ & 0. & 0 & ... & 0 & 0 & 1\\\\\n",
    "\\hline\n",
    " & 1. & 0 & ... & 0 & 0 & 1\\\\\n",
    "\\end{array}\n",
    "\\end{equation*}\n",
    "\n",
    "where the sum has to be rounded to 53 digits to obtain\n",
    "\n",
    "\\begin{equation*}\n",
    "\\begin{array}{ccccc}\n",
    " & a_{2} &  & a_{52} & a_{53}\\\\\n",
    "1. & 0 & ... & 0 & 1\\\\\n",
    "\\end{array}\n",
    "\\end{equation*}\n",
    "\n",
    "Observe that the number added to $1.0$ above is $(0.0...01)_{2}=\\left(\\frac{1}{2}\\right)^{53}=2^{-53}$,\n",
    "which is the smallest number that will make the sum larger than 1.0 with rounding.\n",
    "\n",
    "In summary, we have shown\n",
    "\\begin{equation*}\n",
    "\\epsilon=\\begin{cases}\n",
    "2^{-52} & \\text{if chopping}\\\\\n",
    "2^{-53} & \\text{if rounding}\n",
    "\\end{cases}.\n",
    "\\end{equation*}\n",
    "As a consequence, notice that we can restate the inequality in Remark \\ref{rem:rem_base2relerror} in a compact way using the machine epsilon as:\n",
    "\\begin{equation*}\n",
    "\\frac{|x-fl(x)|}{|x|}\\leq \\epsilon.\n",
    "\\end{equation*}\n"
   ]
  },
  {
   "cell_type": "markdown",
   "id": "06e91792",
   "metadata": {},
   "source": [
    "\\begin{remark}\n",
    "There is another definition of machine epsilon: it is the distance\n",
    "between 1.0 and the next floating-point number.\n",
    "\n",
    "\\begin{equation*}\n",
    "\\begin{array}{cccccc}\n",
    "&  & a_{2} &  & a_{52} & a_{53}\\\\\n",
    "\\text{number } 1.0 & 1. & 0 & ... & 0 & 0\\\\\n",
    "\\text{next number }& 1. & 0 & ... & 0 & 1\\\\\n",
    "\\hline\n",
    "\\text{distance} & 0. & 0 & ... & 0 & 1\n",
    "\\end{array}\n",
    "\\end{equation*}\n",
    "\n",
    "Note that the distance (absolute value of the difference) is $\\left(\\frac{1}{2}\\right)^{52}=2^{-52}.$\n",
    "In this alternative definition, machine epsilon is not based on whether\n",
    "rounding or chopping is used. Also, note that the distance between\n",
    "two adjacent floating-point numbers is not constant, but it is smaller\n",
    "for smaller values, and larger for larger values (see Exercise \\ref{ex:1.3-1}).\n",
    "\\end{remark}"
   ]
  },
  {
   "cell_type": "markdown",
   "id": "10e838e7",
   "metadata": {},
   "source": [
    "### Propagation of error"
   ]
  },
  {
   "cell_type": "markdown",
   "id": "2555cb26",
   "metadata": {},
   "source": [
    "We discussed the resulting error when chopping or rounding is used to approximate\n",
    "a real number by its machine version. Now imagine carrying out a long\n",
    "calculation with many arithmetical operations, and at each step there\n",
    "is some error due to say, rounding. Would all the rounding errors\n",
    "accumulate and cause havoc? This is a rather difficult question to\n",
    "answer in general. For a much simpler example, consider adding two real numbers\n",
    "$x,y$. In the computer, the numbers are represented as $fl(x),fl(y)$.\n",
    "The sum of these number is $fl(x)+fl(y)$; however, the computer can only represent its floating-point version, $fl(fl(x)+fl(y))$.\n",
    "Therefore the relative error in adding two numbers is:\n",
    "\\begin{equation*}\n",
    "\\left|\\frac{(x+y)-fl(fl(x)+fl(y))}{x+y}\\right|.\n",
    "\\end{equation*}\n",
    "In this section, we will look at some specific examples where\n",
    "roundoff error can cause problems, and how we can avoid them."
   ]
  },
  {
   "cell_type": "markdown",
   "id": "b6391c42",
   "metadata": {},
   "source": [
    "#### Subtraction of nearly equal quantities: Cancellation of leading digits"
   ]
  },
  {
   "cell_type": "markdown",
   "id": "a179f8b7",
   "metadata": {},
   "source": [
    "The best way to explain this phenomenon is by an example. Let $x=1.123456,y=1.123447$.\n",
    "We will compute $x-y$ and the resulting roundoff error using rounding\n",
    "and 6-digit arithmetic. First, we find $fl(x),fl(y)$:\n",
    "\\begin{equation*}\n",
    "fl(x)=1.12346,fl(y)=1.12345.\n",
    "\\end{equation*}\n",
    "The absolute and relative error due to rounding is:\n",
    "\\begin{align*}\n",
    "|x-fl(x)| & =4\\times10^{-6},|y-fl(y)|=3\\times 10^{-6}\\\\\n",
    "\\frac{|x-fl(x)|}{|x|} & =3.56\\times10^{-6},\\frac{|y-fl(y)|}{|y|}=2.67\\times 10^{-6}.\n",
    "\\end{align*}\n",
    "From the relative errors, we see that $fl(x)$ and $fl(y)$ approximate $x$\n",
    "and $y$ to six significant digits. Let's see how the error propagates\n",
    "when we subtract $x$ and $y$. The actual difference is:\n",
    "\\begin{equation*}\n",
    "x-y=1.123456-1.123447=0.000009=9\\times 10^{-6}.\n",
    "\\end{equation*}\n",
    "The computer finds this difference first by computing $fl(x),fl(y),$\n",
    "then taking their difference and approximating the difference by its\n",
    "floating-point representation: $fl(fl(x)-fl(y))$:\n",
    "\\begin{equation*}\n",
    "fl(fl(x)-fl(y))=fl\\left(1.12346-1.12345\\right)=10^{-5}.\n",
    "\\end{equation*}\n",
    "The resulting absolute and relative errors are:\n",
    "\\begin{align*}\n",
    "\\left|(x-y)-(fl(fl(x)-fl(y)))\\right| & =10^{-6}\\\\\n",
    "\\frac{|(x-y)-(fl(fl(x)-fl(y)))|}{|x-y|} & =0.1.\n",
    "\\end{align*}\n",
    "Notice how large the relative error is compared to the absolute error!\n",
    "The machine version of $x-y$ approximates $x-y$ to only one significant digit. Why did this\n",
    "happen? When we subtract two numbers that are nearly equal, the leading\n",
    "digits of the numbers cancel, leaving a result close to the rounding\n",
    "error. In other words, the rounding error dominates the difference."
   ]
  },
  {
   "cell_type": "markdown",
   "id": "ac124f26",
   "metadata": {},
   "source": [
    "#### Division by a small number"
   ]
  },
  {
   "cell_type": "markdown",
   "id": "970bcc50",
   "metadata": {},
   "source": [
    "Let $x=0.444446$ and compute $\\frac{x}{10^{-5}}$ in a computer with\n",
    "5-digit arithmetic and rounding. We have $fl(x)=0.44445$, with an\n",
    "absolute error of $4\\times10^{-6}$ and relative error of $9\\times10^{-6}$.\n",
    "The exact division is $\\frac{x}{10^{-5}}=0.444446\\times10^{5}$. The\n",
    "computer computes: $fl\\left(\\frac{x}{10^{-5}}\\right)=0.44445\\times10^{5}$,\n",
    "which has an absolute error of $0.4$ and relative error of $9\\times10^{-6}$.\n",
    "The absolute error went from $4\\times10^{-6}$ to $0.4$. Perhaps\n",
    "not surprisingly, division by a small number magnifies the absolute\n",
    "error but not the relative error.\n",
    "\n",
    "Consider the computation of\n",
    "\\begin{equation*}\n",
    "\\frac{1-\\cos x}{\\sin x}\n",
    "\\end{equation*}\n",
    "when $x$ is near zero. This is a problem where we have both \\textit{subtraction of nearly equal quantities} which happens in the numerator, and \\textit{division by a small number}, when $x$ is close to zero. Let $x=0.1$. Continuing with five-digit rounding, we have\n",
    "\\begin{align*}\n",
    "&fl(\\sin 0.1)=0.099833, fl(\\cos 0.1)=0.99500\\\\\n",
    "&fl\\left(\\frac{1-\\cos 0.1}{\\sin 0.1}\\right)=0.050084.\n",
    "\\end{align*}\n",
    "The exact result to 8 digits is 0.050041708, and the relative error of this computation is $8.5\\times 10^{-4}$. Next we will see how to reduce this error using a simple algebraic identity."
   ]
  },
  {
   "cell_type": "markdown",
   "id": "25bd51a3",
   "metadata": {},
   "source": [
    "#### Ways to avoid loss of accuracy"
   ]
  },
  {
   "cell_type": "markdown",
   "id": "33394c7d",
   "metadata": {},
   "source": [
    "Here we will discuss some examples where a careful rewriting of the\n",
    "expression to compute can make the roundoff error much smaller."
   ]
  },
  {
   "cell_type": "markdown",
   "id": "4326d5e4",
   "metadata": {},
   "source": [
    "### Example\n",
    "Let's revisit the calculation of\n",
    "\\begin{equation*}\n",
    "\\frac{1-\\cos x}{\\sin x}.\n",
    "\\end{equation*}\n",
    "Observe that using the algebraic identity\n",
    "\\begin{equation*}\n",
    "\\frac{1-\\cos x}{\\sin x}=\\frac{\\sin x}{1+\\cos x}\n",
    "\\end{equation*}\n",
    "removes both difficulties encountered before: there is no cancellation of significant digits or division by a small number. Using five-digit rounding, we have\n",
    "\\begin{equation*}\n",
    "fl\\left(\\frac{\\sin 0.1}{1+\\cos 0.1}\\right)=0.050042.\n",
    "\\end{equation*}\n",
    "The relative error is $5.8\\times 10^{-6}$, about a factor of 100 smaller than the error in the original computation."
   ]
  },
  {
   "cell_type": "markdown",
   "id": "1c48913a",
   "metadata": {},
   "source": [
    "### Example\n",
    "Consider the quadratic formula: the solution of $ax^{2}+bx+c=0$ is\n",
    "\n",
    "\\begin{equation*}\n",
    "r_{1}=\\frac{-b+\\sqrt{b^{2}-4ac}}{2a},r_{2}=\\frac{-b-\\sqrt{b^{2}-4ac}}{2a}.\n",
    "\\end{equation*}\n",
    "If $|b|\\approx\\sqrt{b^{2}-4ac}$, then we have a potential loss of precision in computing one of the roots\n",
    "due to cancellation. Let's consider a specific equation: $x^{2}-11x+1=0$.\n",
    "The roots from the quadratic formula are: $r_{1}=\\frac{11+\\sqrt{117}}{2}\\approx 10.90832691$,\n",
    "and $r_{2}=\\frac{11-\\sqrt{117}}{2}\\approx 0.09167308680.$\n",
    "\n",
    "Next will use four-digit\n",
    "arithmetic with rounding to compute the roots:\n",
    "\\begin{gather*}\n",
    "fl(\\sqrt{117})=10.82\\\\\n",
    "fl(r_{1})=fl\\left(\\frac{fl(fl(11.0)+fl(\\sqrt{117}))}{fl(2.0)}\\right)=fl\\left(\\frac{fl(11.0+10.82)}{2.0}\\right)=\n",
    "fl\\left(\\frac{21.82}{2.0}\\right)=10.91\\\\\n",
    "fl(r_{2})=fl\\left(\\frac{fl(fl(11.0)-fl(\\sqrt{117}))}{fl(2.0)}\\right)=fl\\left(\\frac{fl(11.0-10.82)}{2.0}\\right)=\n",
    "fl\\left(\\frac{0.18}{2.0}\\right)=0.09.\n",
    "\\end{gather*}\n",
    "\n",
    "The relative errors are:\n",
    "\\begin{gather*}\n",
    "\\text{rel error in }r_{1}=\\left|\\frac{10.90832691-10.91}{10.90832691}\\right|=1.5\\times10^{-4}\\\\\n",
    "\\text{rel error in }r_{2}=\\left|\\frac{0.09167308680-0.09}{0.09167308680}\\right|=1.8\\times10^{-2}.\n",
    "\\end{gather*}\n",
    "Notice the larger relative error in $r_{2}$ compared to that of $r_{1},$\n",
    "about a factor of $100$, which is due to cancellation of leading\n",
    "digits when we compute $11.0-10.82$.\n",
    "\n",
    "One way to fix this problem is to rewrite the offending expression\n",
    "by rationalizing the numerator:\n",
    "\\begin{equation*}\n",
    "r_{2}=\\frac{11.0-\\sqrt{117}}{2}=\\left(\\frac{1}{2}\\right) \\frac{11.0-\\sqrt{117}}{11.0+\\sqrt{117}}\\left(11.0+\\sqrt{117}\\right)=\\left(\\frac{1}{2}\\right) \\frac{4}{11.0+\\sqrt{117}}=\\frac{2}{11.0+\\sqrt{117}}.\n",
    "\\end{equation*}\n",
    "If we use this formula to compute $r_{2}$ we get:\n",
    "\\begin{equation*}\n",
    "fl(r_{2})=fl\\left(\\frac{2.0}{fl(11.0+fl(\\sqrt{117}))}\\right)=fl\\left(\\frac{2.0}{21.82}\\right)=0.09166.\n",
    "\\end{equation*}\n",
    "The new relative error in $r_{2}$ is:\n",
    "\\begin{equation*}\n",
    "\\text{rel error in }r_{2}=\\left(\\frac{0.09167308680-0.09166}{0.09167308680}\\right)=1.4\\times10^{-4},\n",
    "\\end{equation*}\n",
    "an improvement about a factor of $100,$ even though in the new\n",
    "way of computing $r_{2}$ there are two operations where rounding error\n",
    "happens instead of one."
   ]
  },
  {
   "cell_type": "markdown",
   "id": "de691902",
   "metadata": {},
   "source": [
    "\\begin{example}\\label{example:adding_floatingpt}\n",
    "The simple procedure of adding numbers, even if they do not have mixed signs, can accumulate large errors due to rounding or chopping. Several sophisticated algorithms to add large lists of numbers with accumulated error smaller than straightforward addition exist in the literature (see, for example, Higham (1993)).\n",
    "\n",
    "For a simple example, consider using four-digit arithmetic with rounding, and computing the average of two numbers, $\\frac{a+b}{2}$. For $a=2.954$ and $b=100.9$, the true average is $51.927$. However, four-digit arithmetic with rounding yields:\n",
    "\\begin{equation*}\n",
    "fl\\left( \\frac{100.9+2.954}{2} \\right) = fl\\left( \\frac{fl(103.854)}{2}\\right)=fl\\left( \\frac{103.9}{2}\\right)=51.95,\n",
    "\\end{equation*}\n",
    "which has a relative error of $4.43\\times 10^{-4}$. If we rewrite the averaging formula as $a+\\frac{b-a}{2}$, on the other hand, we obtain 51.93, which has a much smaller relative error of $5.78\\times 10^{-5}$. The following table displays the exact and 4-digit computations, with the corresponding relative error at each step.\n",
    "\n",
    "\\begin{equation*}\n",
    "\\begin{array}{lcccccccll}\n",
    "\\hline\n",
    "                 & a     & b    & a+b     & \\frac{a+b}{2} & b-a     & \\frac{b-a}{2} & a+\\frac{b-a}{2} \\\\ \\hline\n",
    "4-\\text{digit rounding} & 2.954  & 100.9 & 103.9   & 51.95         & 97.95   & 48.98         & 51.93           \\\\\n",
    "\\text{Exact}            &       &       & 103.854 & 51.927        & 97.946  & 48.973        & 51.927         \\\\\n",
    "\\text{Relative error}   &       &       & 4.43e-4 & 4.43e-4       & 4.08e-5 & 1.43e-4       & 5.78e-5         \\\\ \\hline\n",
    "\\end{array}\n",
    "\\end{equation*}\n",
    "\\end{example}"
   ]
  },
  {
   "cell_type": "markdown",
   "id": "0e9af147",
   "metadata": {},
   "source": [
    "\\begin{example}\n",
    "There are two standard formulas given in textbooks to compute the sample variance $s^2$ of the numbers $x_1,...,x_n$:\n",
    "\n",
    "1. $s^2=\\frac{1}{n-1} \\left[ \\sum_{i=1}^n x_i^2 - \\frac{1}{n} \\left( \\sum_{i=1}^n x_i \\right)^2 \\right]$,\n",
    "2. First compute $\\bar{x}=\\frac{1}{n} \\sum_{i=1}^n x_i$, and then $s^2=\\frac{1}{n-1} \\sum_{i=1}^n (x_i-\\bar{x})^2$.\n",
    "\n",
    "Both formulas can suffer from roundoff errors due to adding large lists of numbers if $n$ is large, as mentioned in the previous example. However, the first formula is also prone to error due to cancellation of leading digits (see Chan et al. (1983) for details).\n",
    "\n",
    "For an example, consider four-digit rounding arithmetic, and let the data be $1.253,2.411,3.174$. The sample variance from formula 1 and formula 2 are, 0.93 and 0.9355, respectively. The exact value, up to 6 digits, is 0.935562. Formula 2 is a numerically more stable choice for computing the variance than the first one.\n",
    "\\end{example}"
   ]
  },
  {
   "cell_type": "markdown",
   "id": "9913875e",
   "metadata": {},
   "source": [
    "\\begin{example}\n",
    "We have a sum to compute:\n",
    "\n",
    "\\begin{equation*}\n",
    "e^{-7}=1+\\frac{-7}{1}+\\frac{(-7)^{2}}{2!}+\\frac{(-7)^{3}}{3!}+\\cdots+\\frac{(-7)^{n}}{n!}+\\cdots.\n",
    "\\end{equation*}\n",
    "The alternating signs make this a potentially error prone calculation.\n",
    "\n",
    "Python reports the \"exact\" value for $e^{-7}$ as 0.0009118819655545162. If we use Python to compute this sum with $n=20$, the result is 0.009183673977218275. Here is the Python code for the calculation:\n",
    "\\end{example}"
   ]
  },
  {
   "cell_type": "code",
   "execution_count": null,
   "id": "2a3c3ab5",
   "metadata": {},
   "outputs": [],
   "source": [
    "import numpy as np\n",
    "from scipy.special import factorial"
   ]
  },
  {
   "cell_type": "code",
   "execution_count": null,
   "id": "149c3567",
   "metadata": {},
   "outputs": [],
   "source": [
    "sum = 1.0\n",
    "for n in range(1, 21):\n",
    "    sum += (-7)**n/factorial(n)\n",
    "sum"
   ]
  },
  {
   "cell_type": "markdown",
   "id": "c6492d2a",
   "metadata": {},
   "source": [
    "This result has a relative error of 9.1. We can avoid this huge error if we simply rewrite the above sum as\n",
    "\\begin{equation*}\n",
    "e^{-7}=\\frac{1}{e^{7}}=\\frac{1}{1+7+\\frac{7^{2}}{2!}+\\frac{7^{3}}{3!}+...}.\n",
    "\\end{equation*}\n",
    "The Python code for this computation using $n=20$ is below:"
   ]
  },
  {
   "cell_type": "code",
   "execution_count": null,
   "id": "925e5341",
   "metadata": {},
   "outputs": [],
   "source": [
    "sum = 1.0\n",
    "for n in range(1, 21):\n",
    "    sum += 7**n/factorial(n)\n",
    "sum = 1/sum\n",
    "sum"
   ]
  },
  {
   "cell_type": "markdown",
   "id": "e206a67b",
   "metadata": {},
   "source": [
    "The result is 0.0009118951837867185, which has a relative error of $1.4\\times 10^{-5}$."
   ]
  },
  {
   "cell_type": "markdown",
   "id": "793988a3",
   "metadata": {},
   "source": [
    "\\begin{exercise}\\label{ex:1.3-2}\n",
    "The $x$-intercept of the line passing through the points $(x_{1},y_{1})$ and $(x_{2},y_{2})$ can be computed using either one of the following formulas:\n",
    "\n",
    "\\begin{equation*}\n",
    "x=\\frac{x_{1}y_{2}-x_{2}y_{1}}{y_{2}-y_{1}}\n",
    "\\end{equation*}\n",
    "or,\n",
    "\\begin{equation*}\n",
    "x=x_{1}-\\frac{(x_{2}-x_{1})y_{1}}{y_{2}-y_{1}}\n",
    "\\end{equation*}\n",
    "with the assumption $y_1 \\neq y_2$.\n",
    "\n",
    "a. Show that the formulas are equivalent to each other.\n",
    "\n",
    "b. Compute the $x$-intercept using each formula when $(x_{1},y_{1})=(1.02,3.32)$ and $(x_{2},y_{2})=(1.31,4.31)$. Use three-digit rounding arithmetic.\n",
    "\n",
    "c. Use Python (or a calculator) to compute the $x$-intercept using\n",
    "the full-precision of the device (you can use either one of the formulas). Using this result, compute the relative and absolute errors of the\n",
    "answers you gave in part (b). Discuss which formula is better and\n",
    "why.\n",
    "\\end{exercise}"
   ]
  },
  {
   "cell_type": "markdown",
   "id": "1ce2c903",
   "metadata": {},
   "source": [
    "### Exercise 1.3-3\n",
    "Write two functions in Python to compute the binomial coefficient $\\binom{m}{k}$\n",
    "using the following formulas:\n",
    "\n",
    "a. $\\binom{m}{k}=\\frac{m!}{k!(m-k)!}$ ($m!$ is \\textbf{scipy.special.factorial(m)} in Python.)\n",
    "\n",
    "b. $\\binom{m}{k}=(\\frac{m}{k})(\\frac{m-1}{k-1})\\times...\\times(\\frac{m-k+1}{1})$\n",
    "\n",
    "Then, experiment with various values for $m,k$ to see which formula\n",
    "causes overflow first."
   ]
  },
  {
   "cell_type": "markdown",
   "id": "7b802beb",
   "metadata": {},
   "source": [
    "### Exercise 1.3-4\n",
    "Polynomials can be evaluated in a nested form (also called Horner's method) that has two advantages:\n",
    "the nested form has significantly less computation, and it can reduce\n",
    "roundoff error. For\n",
    "\n",
    "\\begin{equation*}\n",
    "p(x)=a_{0}+a_{1}x+a_{2}x^{2}+...+a_{n-1}x^{n-1}+a_{n}x^{n}\n",
    "\\end{equation*}\n",
    " its nested form is\n",
    "\\begin{equation*}\n",
    "p(x)=a_{0}+x(a_{1}+x(a_{2}+...+x(a_{n-1}+x(a_{n}))...)).\n",
    "\\end{equation*}\n",
    " Consider the polynomial $p(x)=x^{2}+1.1x-2.8$.\n",
    "\n",
    "a. Compute $p(3.5)$ using three-digit rounding, and three-digit chopping arithmetic.\n",
    "What are the absolute errors? (Note that the exact value of $p(3.5)$\n",
    "is 13.3.)\n",
    "\n",
    "b. Write $x^{2}+1.1x-2.8$ in nested form by these simple steps:\n",
    "\\begin{equation*}\n",
    "x^{2}+1.1x-2.8=(x^{2}+1.1x)-2.8=(x+1.1)x-2.8.\n",
    "\\end{equation*}\n",
    "Then compute $p(3.5)$ using three-digit rounding and chopping using the\n",
    "nested form. What are the absolute errors? Compare the errors with\n",
    "the ones you found in (a)."
   ]
  },
  {
   "cell_type": "markdown",
   "id": "f3583e47",
   "metadata": {},
   "source": [
    "\\begin{exercise}\\label{ex:1.3-5}\n",
    "Consider the polynomial written in standard form: $5x^{4}+3x^{3}+4x^{2}+7x-5$.\n",
    "\n",
    "a. Write the polynomial in its nested form. (See the previous problem.)\n",
    "\n",
    "b. How many multiplications does the nested form require when we evaluate\n",
    "the polynomial at a real number? How many multiplications does the\n",
    "standard form require? Can you generalize your answer to any $n$th\n",
    "degree polynomial?\n",
    "\\end{exercise}\n",
    "\n"
   ]
  },
  {
   "cell_type": "markdown",
   "id": "1cabc5e9",
   "metadata": {},
   "source": [
    "#### Arya and the unexpected challenges of data analysis "
   ]
  },
  {
   "cell_type": "markdown",
   "id": "4da959a7",
   "metadata": {},
   "source": [
    "Meet Arya! Arya is a college student interested in math, biology, literature, and acting. Like a typical college student, she texts while walking on campus, complains about demanding professors, and argues in her blogs that homework should be outlawed.\n",
    "\n",
    "Arya is taking a chemistry class, and she performs some experiments in the lab to find the weight of two substances. Due to difficulty in making precise measurements, she can only assess the weights to four-significant digits of accuracy: 2.312 grams and 0.003982 grams. Arya's professor wants to know the product of these weights, which will be used in a formula.\n",
    "\n",
    "![](images/Arya_data_1.png)"
   ]
  },
  {
   "cell_type": "markdown",
   "id": "519b88ba",
   "metadata": {},
   "source": [
    "Arya computes the product using her calculator: $2.312\\times0.003982=0.009206384$, and stares at the result in bewilderment. The numbers she multiplied had four-significant digits, but the product has seven digits! Could this be the result of some magic, like a rabbit hopping out of a magician's hat that was only a handkerchief a moment ago? After some internal deliberations, Arya decides to report the answer to her professor as $0.009206$. Do you think Arya was correct in not reporting all of the digits of the product?\n",
    "\n",
    "![](images/Arya_data_2.png)"
   ]
  },
  {
   "cell_type": "markdown",
   "id": "f31b5351",
   "metadata": {},
   "source": [
    "### Sources of error in applied mathematics\n",
    "\n",
    "Here is a list of potential sources of error when we solve a problem.\n",
    "\n",
    "1. Error due to the simplifying assumptions made in the development of a mathematical model for the physical problem.\n",
    "2. Programming errors.\n",
    "3. Uncertainty in physical data: error in collecting and measuring data.\n",
    "4. Machine errors: rounding/chopping, underflow, overflow, etc.\n",
    "5. Mathematical truncation error: error that results from the use of numerical methods in solving a problem, such as evaluating a series by a finite sum, a definite integral by a numerical integration method, solving a differential equation by a numerical method."
   ]
  },
  {
   "cell_type": "markdown",
   "id": "3f642f0e",
   "metadata": {},
   "source": [
    "### Example\n",
    "The volume of the Earth could be computed using the formula for the volume of a sphere,\n",
    "$V=4/3 \\pi r^{3}$, where $r$ is the radius. This computation involves the following approximations:\n",
    "\n",
    "1. The Earth is modeled as a sphere (modeling error)\n",
    "2. Radius $r\\approx6370$ km is based on empirical measurements (uncertainty in physical data)\n",
    "3. All the numerical computations are done in a computer (machine error)\n",
    "4. The value of $\\pi$ has to be truncated (mathematical truncation error)"
   ]
  },
  {
   "cell_type": "markdown",
   "id": "b25e9928",
   "metadata": {},
   "source": [
    "### Exercise\n",
    "The following is from \"Numerical mathematics and computing\" by\n",
    "Cheney & Kincaid (2012):\n",
    "\n",
    "*In 1996, the Ariane 5 rocket launched by the European Space\n",
    "Agency exploded 40 seconds after lift-off from Kourou, French Guiana.\n",
    "An investigation determined that the horizontal velocity required\n",
    "the conversion of a 64-bit floating-point number to a 16-bit signed\n",
    "integer. It failed because the number was larger than 32,767, which\n",
    "was the largest integer of this type that could be stored in memory.\n",
    "The rocket and its cargo were valued at $500 million*.\n",
    "\n",
    "Search online, or in the library, to find another example of computer\n",
    "arithmetic going very wrong! Write a short paragraph explaining the\n",
    "problem, and give a reference."
   ]
  },
  {
   "cell_type": "markdown",
   "id": "3ec879ae",
   "metadata": {},
   "source": [
    "# References"
   ]
  },
  {
   "cell_type": "markdown",
   "id": "59772471",
   "metadata": {},
   "source": [
    "Goldberg, D., 1991. What every computer scientist should know about floating-point arithmetic. ACM Computing Surveys (CSUR), 23(1), pp.5-48.\n",
    "\n",
    "Higham, N.J., 1993. The accuracy of floating point summation. SIAM Journal on Scientific Computing, 14(4), pp.783-799.\n",
    "\n",
    "Chan, T.F., Golub, G.H., and LeVeque, R.J., 1983. Algorithms for computing the sample variance: Analysis and recommendations. The American Statistician, 37(3), pp.242-247.\n",
    "\n",
    "Cheney, E.W., and Kincaid, D.R., 2012. Numerical mathematics and computing. Cengage Learning."
   ]
  }
 ],
 "metadata": {
  "kernelspec": {
   "display_name": "Python 3 (ipykernel)",
   "language": "python",
   "name": "python3"
  },
  "language_info": {
   "codemirror_mode": {
    "name": "ipython",
    "version": 3
   },
   "file_extension": ".py",
   "mimetype": "text/x-python",
   "name": "python",
   "nbconvert_exporter": "python",
   "pygments_lexer": "ipython3",
   "version": "3.11.4"
  },
  "latex_envs": {
   "LaTeX_envs_menu_present": true,
   "autoclose": false,
   "autocomplete": true,
   "bibliofile": "biblio.bib",
   "cite_by": "apalike",
   "current_citInitial": 1,
   "eqLabelWithNumbers": true,
   "eqNumInitial": 1,
   "hotkeys": {
    "equation": "Ctrl-E",
    "itemize": "Ctrl-I"
   },
   "labels_anchors": false,
   "latex_user_defs": false,
   "report_style_numbering": false,
   "user_envs_cfg": false
  }
 },
 "nbformat": 4,
 "nbformat_minor": 5
}
